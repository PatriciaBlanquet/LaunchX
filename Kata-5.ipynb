{
 "cells": [
  {
   "cell_type": "markdown",
   "metadata": {},
   "source": [
    "# Ejercicio1 - Utilizar operadores aritméticos"
   ]
  },
  {
   "cell_type": "markdown",
   "metadata": {},
   "source": [
    "#### Operadores aritméticos en Python"
   ]
  },
  {
   "cell_type": "code",
   "execution_count": 7,
   "metadata": {},
   "outputs": [
    {
     "name": "stdout",
     "output_type": "stream",
     "text": [
      "\n",
      "Variables para almacenar las distancias de la Tierra y Jupiter\n",
      "\n",
      "Distancia entre Jupiter y la Tierra: \n",
      "628949330\n",
      "\n",
      "Cálculo entre los dos platenas:\n",
      "390577533.93\n"
     ]
    }
   ],
   "source": [
    "# Crear variables para almacenar las dos distancias\n",
    "# ¡Asegúrate de quitar las comas!\n",
    "print (\"\\nVariables para almacenar las distancias de la Tierra y Jupiter\")\n",
    "tierra = 149597870\n",
    "jupiter = 778547200\n",
    "\n",
    "# Calcular la distancia entre planetas\n",
    "print (\"\\nDistancia entre Jupiter y la Tierra: \")\n",
    "distance_km = jupiter - tierra\n",
    "print(distance_km)\n",
    "print (\"\\nCálculo entre los dos platenas:\")\n",
    "distance_mi = distance_km * 0.621\n",
    "print(distance_mi)"
   ]
  },
  {
   "cell_type": "markdown",
   "metadata": {},
   "source": [
    "# Ejercicio 2: convierte cadenas en números y usa valores absolutos"
   ]
  },
  {
   "cell_type": "markdown",
   "metadata": {},
   "source": [
    "#### Crear una aplicación para trabajar con números y entrada de usuario"
   ]
  },
  {
   "cell_type": "code",
   "execution_count": 10,
   "metadata": {},
   "outputs": [
    {
     "name": "stdout",
     "output_type": "stream",
     "text": [
      "\n",
      "Almacenar las entradas: Nombre el Planeta y su distancia con respecto al sol\n"
     ]
    }
   ],
   "source": [
    "# Almacenar las entradas del usuario\n",
    "print (\"\\nAlmacenar las entradas: Nombre el Planeta y su distancia con respecto al sol\")\n",
    "tierra = input('Introduzca la distancia del sol para el primer planeta en KM')\n",
    "jupiter = input('Introduzca la distancia desde el sol para el segundo planeta en KM')"
   ]
  },
  {
   "cell_type": "code",
   "execution_count": 18,
   "metadata": {},
   "outputs": [
    {
     "name": "stdout",
     "output_type": "stream",
     "text": [
      "\n",
      "Distancia de:\n",
      "tierra\n",
      "jupiter\n"
     ]
    }
   ],
   "source": [
    "# Convierte las cadenas de ambos planetas a números enteros\n",
    "print (\"\\nDistancia de:\")\n",
    "tierra = int(149600000)\n",
    "jupiter = int(778600000)\n",
    "print (\"tierra\")\n",
    "print (\"jupiter\")"
   ]
  },
  {
   "cell_type": "code",
   "execution_count": 23,
   "metadata": {},
   "outputs": [
    {
     "name": "stdout",
     "output_type": "stream",
     "text": [
      "\n",
      "Cálculo y valor absoluto\n",
      "629000000\n"
     ]
    }
   ],
   "source": [
    "# Realizar el cálculo y determinar el valor absoluto\n",
    "print (\"\\nCálculo y valor absoluto\")\n",
    "distance_km = jupiter - tierra\n",
    "print(distance_km)"
   ]
  },
  {
   "cell_type": "code",
   "execution_count": 25,
   "metadata": {},
   "outputs": [
    {
     "name": "stdout",
     "output_type": "stream",
     "text": [
      "\n",
      "Conversión de Km a millas\n",
      "390609000.0\n"
     ]
    }
   ],
   "source": [
    "# Convertir de KM a Millas\n",
    "print (\"\\nConversión de Km a millas\")\n",
    "distance_mi = distance_km * 0.621\n",
    "print(abs(distance_mi))"
   ]
  }
 ],
 "metadata": {
  "interpreter": {
   "hash": "aee8b7b246df8f9039afb4144a1f6fd8d2ca17a180786b69acc140d282b71a49"
  },
  "kernelspec": {
   "display_name": "Python 3.10.2 64-bit",
   "language": "python",
   "name": "python3"
  },
  "language_info": {
   "codemirror_mode": {
    "name": "ipython",
    "version": 3
   },
   "file_extension": ".py",
   "mimetype": "text/x-python",
   "name": "python",
   "nbconvert_exporter": "python",
   "pygments_lexer": "ipython3",
   "version": "3.10.2"
  },
  "orig_nbformat": 4
 },
 "nbformat": 4,
 "nbformat_minor": 2
}
