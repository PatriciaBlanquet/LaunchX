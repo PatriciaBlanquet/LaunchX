{
 "cells": [
  {
   "cell_type": "markdown",
   "metadata": {},
   "source": [
    "# Ejercicio - Escribir declaraciones if, else, y elif"
   ]
  },
  {
   "cell_type": "markdown",
   "metadata": {},
   "source": [
    "##### Intrucción(es) a ejecutar"
   ]
  },
  {
   "cell_type": "code",
   "execution_count": 32,
   "metadata": {},
   "outputs": [
    {
     "name": "stdout",
     "output_type": "stream",
     "text": [
      "\n",
      "Creación de variable: asteroide\n",
      "\n",
      "Expresión de prueba si la velocidad es mayor a 25\n",
      "\n",
      "¡Alerta! ¡Un asteroide se acerca a velocidades peligrosas!\n"
     ]
    }
   ],
   "source": [
    "# Añadir el código necesario para crear una variable que guarde la velocidad del asteroide.\n",
    "# Escribe una expresión de prueba para calcular si necesita una advertencia.\n",
    "# Agregue las instrucciones que se ejecutarán si la expresión de prueba es true o false.\n",
    "\n",
    "print(\"\\nCreación de variable: asteroide\")\n",
    "asteroide = 25\n",
    "print(\"\\nExpresión de prueba si la velocidad es mayor a 25\")\n",
    "if asteroide < 26:\n",
    "    print(\"\\n¡Alerta! ¡Un asteroide se acerca a velocidades peligrosas!\")\n",
    "else:\n",
    "    print(\"\\n¡Sigue con tu día!\")"
   ]
  },
  {
   "cell_type": "markdown",
   "metadata": {},
   "source": [
    "# Ejercicio: Uso de operadores and y or"
   ]
  },
  {
   "cell_type": "markdown",
   "metadata": {},
   "source": [
    "##### Intrucción(es) a ejecutar"
   ]
  },
  {
   "cell_type": "code",
   "execution_count": 33,
   "metadata": {},
   "outputs": [
    {
     "name": "stdout",
     "output_type": "stream",
     "text": [
      "\n",
      "Creación de variable, asteroide; viaja a 19 km/s\n",
      "\n",
      "¡Sin novedad alguna :D!\n"
     ]
    }
   ],
   "source": [
    "# Agrega el código para crear una variable para un asteroide que viaja a 19 km/s\n",
    "# Escribe varias expresiones de prueba para determinar si puedes ver el rayo de luz desde la tierra\n",
    "# Agrega las instrucciones que se ejecutarán si las expresiones de prueba son True o False\n",
    "\n",
    "print(\"\\nCreación de variable, asteroide; viaja a 19 km/s\")\n",
    "asteroide = 19\n",
    "if asteroide > 22:\n",
    "    print(\"\\n¡Mira arriba! ¡Hay una luz mágica en el cielo!\")\n",
    "elif asteroide == 22:\n",
    "    print(\"\\n¡Mira arriba!¡Hay una luz mágica en el cielo!\")\n",
    "else:\n",
    "    print(\"\\n¡Sin novedad alguna :D!\")"
   ]
  },
  {
   "cell_type": "markdown",
   "metadata": {},
   "source": [
    "# Ejercicio: Uso de operadores and y or"
   ]
  },
  {
   "cell_type": "markdown",
   "metadata": {},
   "source": [
    "##### Intrucción(es) a ejecutar"
   ]
  },
  {
   "cell_type": "code",
   "execution_count": 34,
   "metadata": {},
   "outputs": [
    {
     "name": "stdout",
     "output_type": "stream",
     "text": [
      "\n",
      "Creación de variables: velocidad_asteroide y tamano_asteroide\n",
      "\n",
      "¡Alerta, Un asteroide muy peligroso viene hacia la Tierra!\n"
     ]
    }
   ],
   "source": [
    "# Agrega el código para crear nuevas variables para la velocidad y el tamaño del asteroide\n",
    "# Para probar el código, prueba con varias velocidades y tamaños\n",
    "# Escribe varias expresiones de prueba o combinaciones de expresiones de prueba para determinar qué mensaje se debe enviar a Tierra.\n",
    "\n",
    "print(\"\\nCreación de variables: velocidad_asteroide y tamano_asteroide\")\n",
    "velocidad_asteroide = 19\n",
    "tamano_asteroide = 23\n",
    "if velocidad_asteroide > 18 and tamano_asteroide > 22:\n",
    "    print(\"\\n¡Alerta, Un asteroide muy peligroso viene hacia la Tierra!\")\n",
    "elif velocidad_asteroide >= 19:\n",
    "    print(\"\\n¡Mira arriba!¡Hay una luz mágica en el cielo!\")\n",
    "elif tamano_asteroide < 19:\n",
    "    print(\"\\n¡Sin novedad alguna :D!\")\n",
    "else:\n",
    "    print(\"\\n¡Sin novedad alguna :D!\")"
   ]
  }
 ],
 "metadata": {
  "interpreter": {
   "hash": "aee8b7b246df8f9039afb4144a1f6fd8d2ca17a180786b69acc140d282b71a49"
  },
  "kernelspec": {
   "display_name": "Python 3.10.2 64-bit",
   "language": "python",
   "name": "python3"
  },
  "language_info": {
   "codemirror_mode": {
    "name": "ipython",
    "version": 3
   },
   "file_extension": ".py",
   "mimetype": "text/x-python",
   "name": "python",
   "nbconvert_exporter": "python",
   "pygments_lexer": "ipython3",
   "version": "3.10.2"
  },
  "orig_nbformat": 4
 },
 "nbformat": 4,
 "nbformat_minor": 2
}
